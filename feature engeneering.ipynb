{
 "cells": [
  {
   "cell_type": "code",
   "execution_count": null,
   "metadata": {},
   "outputs": [],
   "source": [
    "def feature_scale(data,response_index,ALPHA):\n",
    "    import os\n",
    "    import pandas as pd\n",
    "    from scipy import stats as st\n",
    "    import numpy as np\n",
    "\n",
    "    z = list(data.columns)                              #getting the list of all variable in the dataframes\n",
    "    res = list(data[z[response_index]].unique())        # pulling unique responses from the response variable to create subset\n",
    "    dat = []\n",
    "    for i in res:                                      #conditional subsetting the data on the basis of Response variable \n",
    "        elem =\"data \"+ str(i)                          # and saving the data subset as objects in the list \n",
    "        dat.append(elem)\n",
    "        J=res.index(i)\n",
    "        dat[J] = data[data[str(z[response_index])] == res[J]]\n",
    "    Res = data[z[response_index]]                     # setting response variable for chi square testing\n",
    "    Data = data.drop(z[response_index],axis=1)        # Removing Response variable from the data\n",
    "\n",
    "    l=list(Data.columns)                             # getting list of all columns apart from response variable from data\n",
    "    L=[]\n",
    "    alpha=float(ALPHA)                               # setting level of significance as floating point\n",
    "    for i in range(len(l)):    \n",
    "        I=l[i]\n",
    "        if np.dtype(Data[I]) != \"O\" and np.dtype(Data[I]) != \"O\" :  # conditioning over variable for qualitative if dtype is object\n",
    "            for j in range(len(dat)):\n",
    "                J=dat[j]\n",
    "                if j<1:                                    # setting two variable for using two dataset simultaneously for test\n",
    "                    K=dat[j+1]\n",
    "                else:\n",
    "                    continue                          # testing for normality using shapiro test\n",
    "                p1 = st.shapiro(J[I])\n",
    "                p2 = st.shapiro(K[I])\n",
    "                if p1[1] > alpha and p2[1] > alpha:     # condition for parametric test if normality exist\n",
    "                        x = list(st.ttest_ind_from_stats(J[I].mean(),J[I].std(),J[I].count(),\n",
    "                                            K[I].mean(),K[I].std(),K[I].count()))  # indep sample t test for testing whether to keep \n",
    "                        if x[1] < alpha:                                                # the feature or not\n",
    "                            if I not in L:\n",
    "                                L.append(I)                 # if featuure is important for response variable append in the list\n",
    "                else:\n",
    "                    x = list(st.mannwhitneyu(J[I],K[I]))    # if the normality fails use manwhitneyu test which is non parametric version of t test\n",
    "                    if x[1] < alpha:\n",
    "                        if I not in L:\n",
    "                            L.append(I)\n",
    "            \n",
    "        else:\n",
    "            crostbs = pd.crosstab(Res,Data[I])              # for categorical variable we test for the association for \n",
    "            chi2, pchi, dof, expected = st.chi2_contingency(crostbs.values)   #all the variable with response\n",
    "            if pchi < alpha:                                            # if association is significant append the variable in the list\n",
    "                    if I not in L:\n",
    "                        L.append(I)\n",
    "    return(L)                                               # L will return the namee of all the variables that are important for model building"
   ]
  }
 ],
 "metadata": {
  "kernelspec": {
   "display_name": "Python 3",
   "language": "python",
   "name": "python3"
  },
  "language_info": {
   "codemirror_mode": {
    "name": "ipython",
    "version": 3
   },
   "file_extension": ".py",
   "mimetype": "text/x-python",
   "name": "python",
   "nbconvert_exporter": "python",
   "pygments_lexer": "ipython3",
   "version": "3.6.5"
  }
 },
 "nbformat": 4,
 "nbformat_minor": 2
}
